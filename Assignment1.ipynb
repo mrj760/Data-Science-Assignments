{
  "nbformat": 4,
  "nbformat_minor": 0,
  "metadata": {
    "colab": {
      "provenance": [],
      "authorship_tag": "ABX9TyPs5kUOgG4XP3t6lkkzGfCm",
      "include_colab_link": true
    },
    "kernelspec": {
      "name": "python3",
      "display_name": "Python 3"
    },
    "language_info": {
      "name": "python"
    }
  },
  "cells": [
    {
      "cell_type": "markdown",
      "metadata": {
        "id": "view-in-github",
        "colab_type": "text"
      },
      "source": [
        "<a href=\"https://colab.research.google.com/github/mrj760/Data-Science-Assignments/blob/main/CS410_Assignment_1_Micah_Johnson.ipynb\" target=\"_parent\"><img src=\"https://colab.research.google.com/assets/colab-badge.svg\" alt=\"Open In Colab\"/></a>"
      ]
    },
    {
      "cell_type": "markdown",
      "source": [
        ""
      ],
      "metadata": {
        "id": "xU6aE2eU711x"
      }
    },
    {
      "cell_type": "markdown",
      "source": [
        "Keys:\n",
        "a, c, nk, tz, gr, g, h, l, al, hh, r, u, t, hc, cy, ll"
      ],
      "metadata": {
        "id": "guzirQo8y8qb"
      }
    },
    {
      "cell_type": "markdown",
      "source": [
        "# Set-Up Code\n",
        "\n",
        "Retrieve the data and parse it into a splittable form so it can be transformed into dictionaries"
      ],
      "metadata": {
        "id": "72yEMCvpTQVp"
      }
    },
    {
      "cell_type": "code",
      "source": [
        "''' import requests to get the example.txt from an external source '''\n",
        "import requests as req\n",
        "\n",
        "data = req.get('https://raw.githubusercontent.com/mrj760/CS410---Assignment-1-Res/main/example.txt').text # Contains all requests separated by newlines\n",
        "data = data.split('\\n')\n",
        "\n",
        "for line in data:\n",
        "\n",
        "  ''' Skip over instances which are just heartbeats '''\n",
        "  if '_heartbeat_' in line : continue\n",
        "\n",
        "  ''' Prepare every line to be split as : [key,value,key,value...key,value] '''\n",
        "  line = line.replace('{', '').replace('}', '').replace(':', '').replace(' ', '').replace(',\\\"', '\\\"').replace('\\\"\\\"', '\\\"')[1:]\n",
        "\n",
        "  ''' Prepare to iterate over the elments to store them as key value pairs in a dictionary '''\n",
        "  key_vals = line.strip().split(\"\\\"\")\n",
        "  \n",
        "  \n",
        "  ''' Populate a dictionary representing a single request which will be appended to a list of many request dictionaries '''\n",
        "  request_dict = dict()\n",
        "  requests = list()\n",
        "  key = None\n",
        "  val = None\n",
        "  every_other = 1 # Track whether the current iteration is looking at a key or a value\n",
        "  for elmt in key_vals:\n",
        "\n",
        "    if every_other % 2 == 1:\n",
        "      key = elmt\n",
        "\n",
        "    else:\n",
        "      val = elmt\n",
        "      request_dict[key] = val # Add a (key,value) to this request's dictionary\n",
        "\n",
        "    every_other = every_other + 1\n",
        "\n",
        "  ''' End Loop: (for elmnt in key_vals) \n",
        "      Add the finished dictionary to the list '''\n",
        "  requests.append(request_dict)\n",
        "\n",
        "  # break\n",
        "\n",
        "''' show it worked '''\n",
        "i = 0\n",
        "for req in requests: \n",
        "  if i > 8: break\n",
        "  print(req)\n",
        "  i = i + 1"
      ],
      "metadata": {
        "id": "0cVeuOaEPuob",
        "colab": {
          "base_uri": "https://localhost:8080/"
        },
        "outputId": "276dfef4-2343-4c31-b4a7-bb336ddd330d"
      },
      "execution_count": null,
      "outputs": [
        {
          "output_type": "stream",
          "name": "stdout",
          "text": [
            "{'a': 'Mozilla\\\\/5.0(WindowsNT6.1;WOW64)AppleWebKit\\\\/535.11(KHTML,likeGecko)Chrome\\\\/17.0.963.78Safari\\\\/535.11', 'c': 'US', 'nk': '1', 'tz': 'America\\\\/New_York', 'gr': 'MA', 'g': 'A6qOVH', 'h': 'wfLQtf', 'l': 'orofrog', 'al': 'en-US,en;q=0.8', 'hh': '1.usa.gov', 'r': 'http\\\\/\\\\/www.facebook.com\\\\/l\\\\/7AQEFzjSi\\\\/1.usa.gov\\\\/wfLQtf', 'u': 'http\\\\/\\\\/www.ncbi.nlm.nih.gov\\\\/pubmed\\\\/22415991', 't': '1331923247', 'hc': '1331822918', 'cy': 'Danvers', 'll': '[42.576698,-70.954903]'}\n",
            "{'a': 'GoogleMaps\\\\/RochesterNY', 'c': 'US', 'nk': '0', 'tz': 'America\\\\/Denver', 'gr': 'UT', 'g': 'mwszkS', 'h': 'mwszkS', 'l': 'bitly', 'hh': 'j.mp', 'r': 'http\\\\/\\\\/www.AwareMap.com\\\\/', 'u': 'http\\\\/\\\\/www.monroecounty.gov\\\\/etc\\\\/911\\\\/rss.php', 't': '1331923249', 'hc': '1308262393', 'cy': 'Provo', 'll': '[40.218102,-111.613297]'}\n",
            "{'a': 'Mozilla\\\\/4.0(compatible;MSIE8.0;WindowsNT6.1;WOW64;Trident\\\\/4.0;SLCC2;.NETCLR2.0.50727;.NETCLR3.5.30729;.NETCLR3.0.30729;MediaCenterPC6.0;.NET4.0C;.NET4.0E;InfoPath.3)', 'c': 'US', 'nk': '1', 'tz': 'America\\\\/New_York', 'gr': 'DC', 'g': 'xxr3Qb', 'h': 'xxr3Qb', 'l': 'bitly', 'al': 'en-US', 'hh': '1.usa.gov', 'r': 'http\\\\/\\\\/t.co\\\\/03elZC4Q', 'u': 'http\\\\/\\\\/boxer.senate.gov\\\\/en\\\\/press\\\\/releases\\\\/031612.cfm', 't': '1331923250', 'hc': '1331919941', 'cy': 'Washington', 'll': '[38.900700,-77.043098]'}\n",
            "{'a': 'Mozilla\\\\/5.0(Macintosh;IntelMacOSX10_6_8)AppleWebKit\\\\/534.52.7(KHTML,likeGecko)Version\\\\/5.1.2Safari\\\\/534.52.7', 'c': 'BR', 'nk': '0', 'tz': 'America\\\\/Sao_Paulo', 'gr': '27', 'g': 'zCaLwp', 'h': 'zUtuOu', 'l': 'alelex88', 'al': 'pt-br', 'hh': '1.usa.gov', 'r': 'direct', 'u': 'http\\\\/\\\\/apod.nasa.gov\\\\/apod\\\\/ap120312.html', 't': '1331923249', 'hc': '1331923068', 'cy': 'Braz', 'll': '[-23.549999,-46.616699]'}\n",
            "{'a': 'Mozilla\\\\/5.0(WindowsNT6.1;WOW64)AppleWebKit\\\\/535.11(KHTML,likeGecko)Chrome\\\\/17.0.963.79Safari\\\\/535.11', 'c': 'US', 'nk': '0', 'tz': 'America\\\\/New_York', 'gr': 'MA', 'g': '9b6kNl', 'h': '9b6kNl', 'l': 'bitly', 'al': 'en-US,en;q=0.8', 'hh': 'bit.ly', 'r': 'http\\\\/\\\\/www.shrewsbury-ma.gov\\\\/selco\\\\/', 'u': 'http\\\\/\\\\/www.shrewsbury-ma.gov\\\\/egov\\\\/gallery\\\\/134127368672998.png', 't': '1331923251', 'hc': '1273672411', 'cy': 'Shrewsbury', 'll': '[42.286499,-71.714699]'}\n",
            "{'a': 'Mozilla\\\\/5.0(WindowsNT6.1;WOW64)AppleWebKit\\\\/535.11(KHTML,likeGecko)Chrome\\\\/17.0.963.79Safari\\\\/535.11', 'c': 'US', 'nk': '0', 'tz': 'America\\\\/New_York', 'gr': 'MA', 'g': 'axNK8c', 'h': 'axNK8c', 'l': 'bitly', 'al': 'en-US,en;q=0.8', 'hh': 'bit.ly', 'r': 'http\\\\/\\\\/www.shrewsbury-ma.gov\\\\/selco\\\\/', 'u': 'http\\\\/\\\\/www.shrewsbury-ma.gov\\\\/egov\\\\/gallery\\\\/134127368675393.png', 't': '1331923252', 'hc': '1273672506', 'cy': 'Shrewsbury', 'll': '[42.286499,-71.714699]'}\n",
            "{'a': 'Mozilla\\\\/5.0(WindowsNT5.1)AppleWebKit\\\\/535.11(KHTML,likeGecko)Chrome\\\\/17.0.963.79Safari\\\\/535.11', 'c': 'PL', 'nk': '0', 'tz': 'Europe\\\\/Warsaw', 'gr': '77', 'g': 'wcndER', 'h': 'zkpJBR', 'l': 'bnjacobs', 'al': 'pl-PL,pl;q=0.8,en-US;q=0.6,en;q=0.4', 'hh': '1.usa.gov', 'r': 'http\\\\/\\\\/plus.url.google.com\\\\/url?sa=z&n=1331923253510&url=http%3A%2F%2F1.usa.gov%2FzkpJBR&usg=TF5iGSqK1_GSADtHqTqjuUZyMIY.', 'u': 'http\\\\/\\\\/www.nasa.gov\\\\/mission_pages\\\\/nustar\\\\/main\\\\/index.html', 't': '1331923255', 'hc': '1331922854', 'cy': 'Luban', 'll': '[51.116699,15.283300]'}\n",
            "{'a': 'Mozilla\\\\/5.0(WindowsNT6.1;rv2.0.1)Gecko\\\\/20100101Firefox\\\\/4.0.1', 'c': 'null', 'nk': '0', 'tz': '', 'g': 'wcndER', 'h': 'zkpJBR', 'l': 'bnjacobs', 'al': 'bg,en-us;q=0.7,en;q=0.3', 'hh': '1.usa.gov', 'r': 'http\\\\/\\\\/www.facebook.com\\\\/', 'u': 'http\\\\/\\\\/www.nasa.gov\\\\/mission_pages\\\\/nustar\\\\/main\\\\/index.html', 't': '1331923255', 'hc': '1331922854'}\n",
            "{'a': 'Opera\\\\/9.80(X11;Linuxzbov;U;en)Presto\\\\/2.10.254Version\\\\/12.00', 'c': 'null', 'nk': '0', 'tz': '', 'g': 'wcndER', 'h': 'zkpJBR', 'l': 'bnjacobs', 'al': 'en-US,en', 'hh': '1.usa.gov', 'r': 'http\\\\/\\\\/www.facebook.com\\\\/l.php?u=http%3A%2F%2F1.usa.gov%2FzkpJBR&h=fAQG5ntSGAQHqKPlWzuJKUA9LYeckHZCUxvjQipJDd7Rmmw', 'u': 'http\\\\/\\\\/www.nasa.gov\\\\/mission_pages\\\\/nustar\\\\/main\\\\/index.html', 't': '1331923254', 'hc': '1331922854'}\n"
          ]
        }
      ]
    },
    {
      "cell_type": "markdown",
      "source": [
        "# Task 1\n",
        "Find the top 5 number of occurances of each timezone with the data."
      ],
      "metadata": {
        "id": "3c16HaRQ98ON"
      }
    },
    {
      "cell_type": "code",
      "source": [
        "# empty dictionary to store number of occurences for each timezone\n",
        "tz_dict = dict()\n",
        "\n",
        "''' Go through each request and find its \"tz\" value.\n",
        "    If the given timezone already exists in (tz_dict), add to its occurence count.\n",
        "    Else add the timezone as a new entry, specifying that it has occured once. '''\n",
        "for req in requests:\n",
        "\n",
        "  tz = req.get('tz')\n",
        "\n",
        "  if tz == '': continue # Do not count empty timezone fields. \n",
        "  \n",
        "  if tz in tz_dict:\n",
        "    tz_dict[tz] = tz_dict[tz]+1\n",
        "  else:\n",
        "    tz_dict[tz] = 1\n",
        "\n",
        "\n",
        "''' Print a list of tuples out of the new dictionary.\n",
        "    The tuples are comprised of the timezone names and the number of times they've occured\n",
        "    The list is reverse sorted by the number of occurences\n",
        "    The list is cut off so that it only includes the first 5 elements '''\n",
        "i=1\n",
        "for item in (list(reversed(sorted(zip(tz_dict.keys(), tz_dict.values()), key=lambda x: x[1]))))[0:5]:\n",
        "  loc = item[0].replace('\\\\/', ', ').replace('_', ' ')\n",
        "  print (f\"Result {i}: ({loc}) \\n\\t  Occuring {item[1]} times\\n\")\n",
        "  i = i+1"
      ],
      "metadata": {
        "colab": {
          "base_uri": "https://localhost:8080/"
        },
        "id": "JfcXlYnL96tD",
        "outputId": "818d213e-865d-444e-e0d0-5de8628db050"
      },
      "execution_count": null,
      "outputs": [
        {
          "output_type": "stream",
          "name": "stdout",
          "text": [
            "Result 1: (America, New York) \n",
            "\t  Occuring 1251 times\n",
            "\n",
            "Result 2: (America, Chicago) \n",
            "\t  Occuring 400 times\n",
            "\n",
            "Result 3: (America, Los Angeles) \n",
            "\t  Occuring 382 times\n",
            "\n",
            "Result 4: (America, Denver) \n",
            "\t  Occuring 191 times\n",
            "\n",
            "Result 5: (Europe, London) \n",
            "\t  Occuring 74 times\n",
            "\n"
          ]
        }
      ]
    },
    {
      "cell_type": "code",
      "source": [],
      "metadata": {
        "id": "VsxYPzHYMrkn"
      },
      "execution_count": null,
      "outputs": []
    },
    {
      "cell_type": "markdown",
      "source": [
        "# Task 2\n",
        "Find the number of times the country is \"US\""
      ],
      "metadata": {
        "id": "OUPHAydjOS9E"
      }
    },
    {
      "cell_type": "code",
      "source": [
        "''' Iterate through the requests and count the number of times the \"c\" field reads \"US\" '''\n",
        "\n",
        "US_count = 0\n",
        "for req in requests:\n",
        "  if req.get('c') == 'US':\n",
        "    US_count = US_count + 1\n",
        "\n",
        "print(f\"The US shows up {US_count} times.\")"
      ],
      "metadata": {
        "colab": {
          "base_uri": "https://localhost:8080/"
        },
        "id": "5otyBfejNOrw",
        "outputId": "799a267f-90a4-4c1d-cbf9-0f45193f23d9"
      },
      "execution_count": null,
      "outputs": [
        {
          "output_type": "stream",
          "name": "stdout",
          "text": [
            "The US shows up 2305 times.\n"
          ]
        }
      ]
    }
  ]
}
