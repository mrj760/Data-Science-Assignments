{
  "nbformat": 4,
  "nbformat_minor": 0,
  "metadata": {
    "colab": {
      "provenance": [],
      "authorship_tag": "ABX9TyPvPj6gwNcaWJPOI4SGe0uW",
      "include_colab_link": true
    },
    "kernelspec": {
      "name": "python3",
      "display_name": "Python 3"
    },
    "language_info": {
      "name": "python"
    }
  },
  "cells": [
    {
      "cell_type": "markdown",
      "metadata": {
        "id": "view-in-github",
        "colab_type": "text"
      },
      "source": [
        "<a href=\"https://colab.research.google.com/github/mrj760/Data-Science-Assignments/blob/main/CS410_Assignment_2.ipynb\" target=\"_parent\"><img src=\"https://colab.research.google.com/assets/colab-badge.svg\" alt=\"Open In Colab\"/></a>"
      ]
    },
    {
      "cell_type": "code",
      "execution_count": null,
      "metadata": {
        "colab": {
          "base_uri": "https://localhost:8080/"
        },
        "id": "4tgm4l1dfHVg",
        "outputId": "c34d2b89-31e7-44e2-e43c-d6d0ec7c44f4"
      },
      "outputs": [
        {
          "output_type": "stream",
          "name": "stdout",
          "text": [
            "Mounted at /content/drive\n"
          ]
        }
      ],
      "source": [
        "import pandas as pd\n",
        "from google.colab import drive\n",
        "drive.mount(\"/content/drive\")"
      ]
    },
    {
      "cell_type": "markdown",
      "source": [
        "RATINGS FILE DESCRIPTION\n",
        "================================================================================\n",
        "\n",
        "All ratings are contained in the file \"ratings.dat\" and are in the\n",
        "following format:\n",
        "\n",
        "UserID::MovieID::Rating::Timestamp\n",
        "\n",
        "- UserIDs range between 1 and 6040 \n",
        "- MovieIDs range between 1 and 3952\n",
        "- Ratings are made on a 5-star scale (whole-star ratings only)\n",
        "- Timestamp is represented in seconds since the epoch as returned by time(2)\n",
        "- Each user has at least 20 ratings"
      ],
      "metadata": {
        "id": "F8Vs_J5inY4q"
      }
    },
    {
      "cell_type": "code",
      "source": [
        "ratings = pd.read_csv(\"/content/drive/MyDrive/ratings.dat\", sep=\"\\:\\:\", names=[\"UserID\", \"MovieID\", \"Rating\", \"Timestamp\"], engine=\"python\")\n",
        "print(ratings)"
      ],
      "metadata": {
        "colab": {
          "base_uri": "https://localhost:8080/"
        },
        "id": "aji9zZ1-_lkY",
        "outputId": "b2766888-0a80-4921-f5f4-25707a20bc46"
      },
      "execution_count": null,
      "outputs": [
        {
          "output_type": "stream",
          "name": "stdout",
          "text": [
            "         UserID  MovieID  Rating  Timestamp\n",
            "0             1     1193       5  978300760\n",
            "1             1      661       3  978302109\n",
            "2             1      914       3  978301968\n",
            "3             1     3408       4  978300275\n",
            "4             1     2355       5  978824291\n",
            "...         ...      ...     ...        ...\n",
            "1000204    6040     1091       1  956716541\n",
            "1000205    6040     1094       5  956704887\n",
            "1000206    6040      562       5  956704746\n",
            "1000207    6040     1096       4  956715648\n",
            "1000208    6040     1097       4  956715569\n",
            "\n",
            "[1000209 rows x 4 columns]\n"
          ]
        }
      ]
    },
    {
      "cell_type": "markdown",
      "source": [
        "USERS FILE DESCRIPTION\n",
        "================================================================================\n",
        "\n",
        "User information is in the file \"users.dat\" and is in the following\n",
        "format:\n",
        "\n",
        "UserID::Gender::Age::Occupation::Zip-code\n",
        "\n",
        "All demographic information is provided voluntarily by the users and is\n",
        "not checked for accuracy.  Only users who have provided some demographic\n",
        "information are included in this data set.\n",
        "\n",
        "- Gender is denoted by a \"M\" for male and \"F\" for female\n",
        "- Age is chosen from the following ranges:\n",
        "\n",
        "\t*  1:  \"Under 18\"\n",
        "\t* 18:  \"18-24\"\n",
        "\t* 25:  \"25-34\"\n",
        "\t* 35:  \"35-44\"\n",
        "\t* 45:  \"45-49\"\n",
        "\t* 50:  \"50-55\"\n",
        "\t* 56:  \"56+\"\n",
        "\n",
        "- Occupation is chosen from the following choices:\n",
        "\n",
        "\t*  0:  \"other\" or not specified\n",
        "\t*  1:  \"academic/educator\"\n",
        "\t*  2:  \"artist\"\n",
        "\t*  3:  \"clerical/admin\"\n",
        "\t*  4:  \"college/grad student\"\n",
        "\t*  5:  \"customer service\"\n",
        "\t*  6:  \"doctor/health care\"\n",
        "\t*  7:  \"executive/managerial\"\n",
        "\t*  8:  \"farmer\"\n",
        "\t*  9:  \"homemaker\"\n",
        "\t* 10:  \"K-12 student\"\n",
        "\t* 11:  \"lawyer\"\n",
        "\t* 12:  \"programmer\"\n",
        "\t* 13:  \"retired\"\n",
        "\t* 14:  \"sales/marketing\"\n",
        "\t* 15:  \"scientist\"\n",
        "\t* 16:  \"self-employed\"\n",
        "\t* 17:  \"technician/engineer\"\n",
        "\t* 18:  \"tradesman/craftsman\"\n",
        "\t* 19:  \"unemployed\"\n",
        "\t* 20:  \"writer\""
      ],
      "metadata": {
        "id": "8S-UX8bgnZDe"
      }
    },
    {
      "cell_type": "code",
      "source": [
        "users = pd.read_csv(\"/content/drive/MyDrive/users.dat\", sep=\"\\:\\:\", names=['UserID','Gender','Age','Occupation','Zip-Code'], engine=\"python\")\n",
        "print(users)"
      ],
      "metadata": {
        "colab": {
          "base_uri": "https://localhost:8080/"
        },
        "id": "nRXdpwXnnfI7",
        "outputId": "914141e8-3d97-4a0e-d197-ca5dc6e57ef6"
      },
      "execution_count": null,
      "outputs": [
        {
          "output_type": "stream",
          "name": "stdout",
          "text": [
            "      UserID Gender  Age  Occupation Zip-Code\n",
            "0          1      F    1          10    48067\n",
            "1          2      M   56          16    70072\n",
            "2          3      M   25          15    55117\n",
            "3          4      M   45           7    02460\n",
            "4          5      M   25          20    55455\n",
            "...      ...    ...  ...         ...      ...\n",
            "6035    6036      F   25          15    32603\n",
            "6036    6037      F   45           1    76006\n",
            "6037    6038      F   56           1    14706\n",
            "6038    6039      F   45           0    01060\n",
            "6039    6040      M   25           6    11106\n",
            "\n",
            "[6040 rows x 5 columns]\n"
          ]
        }
      ]
    },
    {
      "cell_type": "markdown",
      "source": [
        "MOVIES FILE DESCRIPTION\n",
        "================================================================================\n",
        "\n",
        "Movie information is in the file \"movies.dat\" and is in the following\n",
        "format:\n",
        "\n",
        "MovieID::Title::Genres\n",
        "\n",
        "- Titles are identical to titles provided by the IMDB (including\n",
        "year of release)\n",
        "- Genres are pipe-separated and are selected from the following genres:\n",
        "\n",
        "\t* Action\n",
        "\t* Adventure\n",
        "\t* Animation\n",
        "\t* Children's\n",
        "\t* Comedy\n",
        "\t* Crime\n",
        "\t* Documentary\n",
        "\t* Drama\n",
        "\t* Fantasy\n",
        "\t* Film-Noir\n",
        "\t* Horror\n",
        "\t* Musical\n",
        "\t* Mystery\n",
        "\t* Romance\n",
        "\t* Sci-Fi\n",
        "\t* Thriller\n",
        "\t* War\n",
        "\t* Western\n",
        "\n",
        "- Some MovieIDs do not correspond to a movie due to accidental duplicate\n",
        "entries and/or test entries\n",
        "- Movies are mostly entered by hand, so errors and inconsistencies may exist"
      ],
      "metadata": {
        "id": "uw3_4oRknZdR"
      }
    },
    {
      "cell_type": "code",
      "source": [
        "movies = pd.read_csv(\"/content/drive/MyDrive/movies.dat\", sep=\"\\:\\:\", names=['MovieID', 'Title', 'Genres'], engine=\"python\")\n",
        "print(movies)"
      ],
      "metadata": {
        "colab": {
          "base_uri": "https://localhost:8080/"
        },
        "id": "Sj2eiKbslOu-",
        "outputId": "71b65703-e8a0-4d1b-9a8b-05d83483f6f6"
      },
      "execution_count": null,
      "outputs": [
        {
          "output_type": "stream",
          "name": "stdout",
          "text": [
            "      MovieID                               Title  \\\n",
            "0           1                    Toy Story (1995)   \n",
            "1           2                      Jumanji (1995)   \n",
            "2           3             Grumpier Old Men (1995)   \n",
            "3           4            Waiting to Exhale (1995)   \n",
            "4           5  Father of the Bride Part II (1995)   \n",
            "...       ...                                 ...   \n",
            "3878     3948             Meet the Parents (2000)   \n",
            "3879     3949          Requiem for a Dream (2000)   \n",
            "3880     3950                    Tigerland (2000)   \n",
            "3881     3951             Two Family House (2000)   \n",
            "3882     3952               Contender, The (2000)   \n",
            "\n",
            "                            Genres  \n",
            "0      Animation|Children's|Comedy  \n",
            "1     Adventure|Children's|Fantasy  \n",
            "2                   Comedy|Romance  \n",
            "3                     Comedy|Drama  \n",
            "4                           Comedy  \n",
            "...                            ...  \n",
            "3878                        Comedy  \n",
            "3879                         Drama  \n",
            "3880                         Drama  \n",
            "3881                         Drama  \n",
            "3882                Drama|Thriller  \n",
            "\n",
            "[3883 rows x 3 columns]\n"
          ]
        }
      ]
    },
    {
      "cell_type": "markdown",
      "source": [
        "## Task 1\n",
        "\n",
        "Obtain the mean rating of each movie grouped by gender and display the top 5\n",
        "\n",
        "New table will be of format...\n",
        "\n",
        "Title :: F Rating :: M Rating"
      ],
      "metadata": {
        "id": "jB3Oc7gBBgAd"
      }
    },
    {
      "cell_type": "code",
      "source": [
        "# gender_ratings = users.loc[:, ['UserID', 'Gender']] # Only the userID and gender columns are useful from users table\n",
        "gender_ratings = users.merge(ratings, how='left',right_on='UserID',left_on='UserID') # merge with ratings table to get ratings of users by userID\n",
        "gender_ratings = gender_ratings.loc[:, ['UserID', 'Gender', 'MovieID', 'Rating']] # strip out unnecessary columns\n",
        "gender_ratings = gender_ratings.merge(movies, left_on='MovieID', right_on='MovieID', how='left') # merge with movies to get ratings from users on every movie\n",
        "gender_ratings = gender_ratings.loc[:, ['Title', 'Gender', 'Rating']] # last time stripping out unnecessary columns.\n",
        "gender_ratings = pd.pivot_table(gender_ratings, index='Title', columns='Gender', values='Rating', aggfunc='mean') # turn the Gender column into two columns\n",
        "print(gender_ratings.head(5)) # Display the top 5"
      ],
      "metadata": {
        "colab": {
          "base_uri": "https://localhost:8080/"
        },
        "id": "sDhbA12cBddk",
        "outputId": "cb1324e0-dd93-4988-cc4e-53d024a2ac25"
      },
      "execution_count": null,
      "outputs": [
        {
          "output_type": "stream",
          "name": "stdout",
          "text": [
            "Gender                                F         M\n",
            "Title                                            \n",
            "$1,000,000 Duck (1971)         3.375000  2.761905\n",
            "'Night Mother (1986)           3.388889  3.352941\n",
            "'Til There Was You (1997)      2.675676  2.733333\n",
            "'burbs, The (1989)             2.793478  2.962085\n",
            "...And Justice for All (1979)  3.828571  3.689024\n"
          ]
        }
      ]
    },
    {
      "cell_type": "markdown",
      "source": [
        "#Task 2\n",
        "\n",
        "Filter out only the movies which have received 300 ratings"
      ],
      "metadata": {
        "id": "ELnv3FuvOKNf"
      }
    },
    {
      "cell_type": "code",
      "source": [
        "def one(num): # turn every number into the number 1\n",
        "  return 1\n",
        "rating_count = ratings['Rating'] # Get only the ratings of each movie\n",
        "rating_count = ratings.assign(Count=rating_count.apply(one)) # Turn every rating into a one so when we combine the ones we will get a count of ratings\n",
        "rating_count = rating_count.groupby(by='MovieID')['Count'].sum().reset_index() # group by each movie then sum the Rating-Count\n",
        "over_300 = rating_count.loc[rating_count['Count'] >= 300].sort_values('Count', ascending=False) # Get only the movies who have a Rating-Count of 300+\n",
        "over_300 = movies.merge(over_300, right_on='MovieID', left_on='MovieID', how='right') # merge with movies table to get the titles of the movies which have 300+ ratings\n",
        "over_300 = over_300.loc[:, 'Title'] # Only need the titles for merging with the gender ratings\n",
        "gender_ratings_over_300 = gender_ratings.merge(over_300, left_on='Title', right_on='Title', how='right') # use the titles to cross reference gender_ratings table and remove any movies which have under 300 ratings.\n",
        "print(gender_ratings_over_300.head(5)) # finally display the top 5 of movies which received the most ratings"
      ],
      "metadata": {
        "colab": {
          "base_uri": "https://localhost:8080/"
        },
        "id": "fMFNFu8bOJy-",
        "outputId": "240b9d15-5858-494a-cc5a-2af83ff2692e"
      },
      "execution_count": null,
      "outputs": [
        {
          "output_type": "stream",
          "name": "stdout",
          "text": [
            "                                               Title         F         M\n",
            "0                             American Beauty (1999)  4.238901  4.347301\n",
            "1          Star Wars: Episode IV - A New Hope (1977)  4.302937  4.495307\n",
            "2  Star Wars: Episode V - The Empire Strikes Back...  4.106481  4.344577\n",
            "3  Star Wars: Episode VI - Return of the Jedi (1983)  3.865237  4.069058\n",
            "4                               Jurassic Park (1993)  3.579407  3.814197\n"
          ]
        }
      ]
    },
    {
      "cell_type": "markdown",
      "source": [
        "## Task 3\n",
        "\n",
        "Display top 5 films among female viewers"
      ],
      "metadata": {
        "id": "mSdFEb2TkkIu"
      }
    },
    {
      "cell_type": "code",
      "source": [
        "female_favorites = gender_ratings_over_300.sort_values('F', ascending=False) # Sort the movies in the table with gender-aggregated reviews by the highest review score among female viewers\n",
        "print(female_favorites.head(5)) # display the first 5"
      ],
      "metadata": {
        "colab": {
          "base_uri": "https://localhost:8080/"
        },
        "id": "R_GEG8sFkoJQ",
        "outputId": "e730e2b8-c0f3-49bd-93f9-d13413afc595"
      },
      "execution_count": null,
      "outputs": [
        {
          "output_type": "stream",
          "name": "stdout",
          "text": [
            "                                                 Title         F         M\n",
            "442                              Close Shave, A (1995)  4.644444  4.473795\n",
            "268                         Wrong Trousers, The (1993)  4.588235  4.478261\n",
            "672      Sunset Blvd. (a.k.a. Sunset Boulevard) (1950)  4.572650  4.464589\n",
            "727  Wallace & Gromit: The Best of Aardman Animatio...  4.563107  4.385075\n",
            "17                             Schindler's List (1993)  4.562602  4.491415\n"
          ]
        }
      ]
    },
    {
      "cell_type": "markdown",
      "source": [
        "## Task 4\n",
        "\n",
        "Find the disagreement among viewers (AKA the std deviation in ratings for each movie)"
      ],
      "metadata": {
        "id": "9lvd4c2dliBn"
      }
    },
    {
      "cell_type": "code",
      "source": [
        "ratings_disagreement = ratings.groupby('MovieID')['Rating'].std() # Group the ratings table by movie and then aggregate the ratings by std deviation\n",
        "ratings_disagreement = movies.merge(ratings_disagreement, left_on='MovieID', right_on='MovieID', how='right').loc[:,['Title','Rating']] # merge with the movies table to get movie titles along with rating std-dev\n",
        "ratings_disagreement = ratings_disagreement.merge(over_300, left_on='Title', right_on='Title', how='inner').sort_values('Rating', ascending=False) # Merge with table which has only movies with 300+ reviews\n",
        "print(ratings_disagreement.head(10)) # display the first 10 as seen in the assignment sheet"
      ],
      "metadata": {
        "colab": {
          "base_uri": "https://localhost:8080/"
        },
        "id": "ax59C3HNlo4T",
        "outputId": "bf12ecdf-7e0e-4d15-dbab-931437a0fd4e"
      },
      "execution_count": null,
      "outputs": [
        {
          "output_type": "stream",
          "name": "stdout",
          "text": [
            "                                           Title    Rating\n",
            "63                          Dumb & Dumber (1994)  1.321333\n",
            "759              Blair Witch Project, The (1999)  1.316368\n",
            "75                   Natural Born Killers (1994)  1.307198\n",
            "86                              Tank Girl (1995)  1.277695\n",
            "741        Rocky Horror Picture Show, The (1975)  1.260177\n",
            "760                        Eyes Wide Shut (1999)  1.259624\n",
            "58                          Billy Madison (1995)  1.249970\n",
            "882                      Bicentennial Man (1999)  1.245533\n",
            "665                 Babe: Pig in the City (1998)  1.239379\n",
            "754  South Park: Bigger, Longer and Uncut (1999)  1.235380\n"
          ]
        }
      ]
    }
  ]
}