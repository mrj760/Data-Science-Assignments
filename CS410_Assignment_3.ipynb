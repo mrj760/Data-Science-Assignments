{
  "nbformat": 4,
  "nbformat_minor": 0,
  "metadata": {
    "colab": {
      "provenance": [],
      "authorship_tag": "ABX9TyM6igknbhmrBzig9ozqWQKz",
      "include_colab_link": true
    },
    "kernelspec": {
      "name": "python3",
      "display_name": "Python 3"
    },
    "language_info": {
      "name": "python"
    }
  },
  "cells": [
    {
      "cell_type": "markdown",
      "metadata": {
        "id": "view-in-github",
        "colab_type": "text"
      },
      "source": [
        "<a href=\"https://colab.research.google.com/github/mrj760/Data-Science-Assignments/blob/main/CS410_Assignment_3.ipynb\" target=\"_parent\"><img src=\"https://colab.research.google.com/assets/colab-badge.svg\" alt=\"Open In Colab\"/></a>"
      ]
    },
    {
      "cell_type": "markdown",
      "source": [
        ""
      ],
      "metadata": {
        "id": "vjY-MPQpUnTL"
      }
    },
    {
      "cell_type": "code",
      "execution_count": null,
      "metadata": {
        "colab": {
          "base_uri": "https://localhost:8080/"
        },
        "id": "GTiLtXq_ThVx",
        "outputId": "e5e607cd-fc19-481e-d255-8745c3a1217e"
      },
      "outputs": [
        {
          "output_type": "stream",
          "name": "stdout",
          "text": [
            "Mounted at /content/drive\n"
          ]
        }
      ],
      "source": [
        "from google.colab import drive\n",
        "drive.mount(\"/content/drive\")"
      ]
    },
    {
      "cell_type": "code",
      "source": [
        "from pathlib import Path\n",
        "import pandas as pd\n",
        "import matplotlib as mpl\n",
        "import seaborn as sb\n",
        "import plotly.express as pltx\n",
        "from chardet import detect\n",
        "import numpy as np\n",
        "import os"
      ],
      "metadata": {
        "id": "0_lUKFRzUJsk"
      },
      "execution_count": null,
      "outputs": []
    },
    {
      "cell_type": "markdown",
      "source": [
        "##Restaurant Violations Dataset"
      ],
      "metadata": {
        "id": "fHGFjHheUiow"
      }
    },
    {
      "cell_type": "code",
      "source": [
        "drive = Path() / '/content' / 'drive' / 'MyDrive' / 'CS410WranglingFiles'"
      ],
      "metadata": {
        "id": "wicD6LjiVQOn"
      },
      "execution_count": null,
      "outputs": []
    },
    {
      "cell_type": "code",
      "source": [
        "insp = pd.read_csv(drive / 'inspections.csv')\n",
        "vio = pd.read_csv(drive / 'violations.csv')\n",
        "\n",
        "pd.set_option('display.max_columns', None)  \n",
        "pd.set_option('display.max_colwidth', 50)\n",
        "pd.set_option(\"expand_frame_repr\", False)"
      ],
      "metadata": {
        "id": "nKgyR81vUhb0"
      },
      "execution_count": null,
      "outputs": []
    },
    {
      "cell_type": "code",
      "source": [
        "print(insp)"
      ],
      "metadata": {
        "colab": {
          "base_uri": "https://localhost:8080/"
        },
        "id": "bueQ0bxVaznv",
        "outputId": "9bc3d7a4-ac04-4211-ebfd-5c445f13001d"
      },
      "execution_count": null,
      "outputs": [
        {
          "output_type": "stream",
          "name": "stdout",
          "text": [
            "       business_id  score      date     type\n",
            "0               19     94  20160513  routine\n",
            "1               19     94  20171211  routine\n",
            "2               24     98  20171101  routine\n",
            "3               24     98  20161005  routine\n",
            "4               24     96  20160311  routine\n",
            "...            ...    ...       ...      ...\n",
            "14217        94012     90  20180112  routine\n",
            "14218        94133    100  20171227  routine\n",
            "14219        94142    100  20171220  routine\n",
            "14220        94189     96  20171130  routine\n",
            "14221        94231     85  20171214  routine\n",
            "\n",
            "[14222 rows x 4 columns]\n"
          ]
        }
      ]
    },
    {
      "cell_type": "code",
      "source": [
        "print(vio)"
      ],
      "metadata": {
        "colab": {
          "base_uri": "https://localhost:8080/"
        },
        "id": "4TBjwXIxa0by",
        "outputId": "333d0fde-390a-4411-c86e-0c0398da7d40"
      },
      "execution_count": null,
      "outputs": [
        {
          "output_type": "stream",
          "name": "stdout",
          "text": [
            "       business_id      date                                        description\n",
            "0               19  20171211  Inadequate food safety knowledge or lack of ce...\n",
            "1               19  20171211   Unapproved or unmaintained equipment or utensils\n",
            "2               19  20160513  Unapproved or unmaintained equipment or utensi...\n",
            "3               19  20160513  Unclean or degraded floors walls or ceilings  ...\n",
            "4               19  20160513  Food safety certificate or food handler card n...\n",
            "...            ...       ...                                                ...\n",
            "39037        94189  20171130            Insufficient hot water or running water\n",
            "39038        94231  20171214  Unclean nonfood contact surfaces  [ date viola...\n",
            "39039        94231  20171214  High risk vermin infestation  [ date violation...\n",
            "39040        94231  20171214  Moderate risk food holding temperature   [ dat...\n",
            "39041        94231  20171214  Wiping cloths not clean or properly stored or ...\n",
            "\n",
            "[39042 rows x 3 columns]\n"
          ]
        }
      ]
    },
    {
      "cell_type": "code",
      "source": [
        "''' Determine the file format, file encoding, and file size \n",
        "\n",
        "inspections.csv : delimited by commas. \n",
        "Contains: numeric business id, a string score, a string date, and a string type\n",
        "Granularity: Each row in the table represents an inspection of a business on a particular day\n",
        "\n",
        "violations.csv : delimited by commas\n",
        "Contains: numeric business id, a string date, and a string description\n",
        "Granularity: Each row represents a violation of a business on a particular day '''\n",
        "\n",
        "''' Getting inspections.csv file encoding and size '''\n",
        "insp_bytes = detect((drive / 'inspections.csv').read_bytes()) # read in data frame as bytes for finding encoding\n",
        "insp_size = os.path.getsize(drive / 'inspections.csv') # use os to find file size of dataframe \n",
        "print(f\"inspections.csv [ encoding: {insp_bytes['encoding']}, confidence: {insp_bytes['confidence']}, file size: {int(insp_size / 1024)}KiB ]\")\n",
        "\n",
        "''' Getting violations.csv file encoding and size '''\n",
        "vio_bytes = detect((drive / 'violations.csv').read_bytes()) # read in data frame as bytes for finding encoding\n",
        "vio_size = os.path.getsize(drive / 'violations.csv') # use os to find file size of dataframe \n",
        "print(f\"violations.csv  [ encoding: {vio_bytes['encoding']}, confidence: {vio_bytes['confidence']}, file size: {int(vio_size / 1024)}KiB ]\")"
      ],
      "metadata": {
        "colab": {
          "base_uri": "https://localhost:8080/"
        },
        "id": "CU6ZcI85a169",
        "outputId": "973fd506-f29a-4cee-cfc4-6454ec2e0573"
      },
      "execution_count": null,
      "outputs": [
        {
          "output_type": "stream",
          "name": "stdout",
          "text": [
            "inspections.csv [ encoding: ascii, confidence: 1.0, file size: 455KiB ]\n",
            "violations.csv  [ encoding: ascii, confidence: 1.0, file size: 3638KiB ]\n"
          ]
        }
      ]
    },
    {
      "cell_type": "code",
      "source": [
        "''' take a date and use pandas to turn it into a date_time, then make a column in the dataframe overwrite the date column and add a year column '''\n",
        "def parse_dates_and_years(df, column=\"date\"):\n",
        "  dates = pd.to_datetime(df[column], format=\"%Y%m%d\")\n",
        "  years = dates.dt.year\n",
        "  return df.assign(date=dates, year=years)\n",
        "\n",
        "''' apply the above function to the violations dataframe '''\n",
        "vio = vio.pipe(parse_dates_and_years)\n",
        "\n",
        "''' take whatever and return a 1 '''\n",
        "def one(thing):\n",
        "  return 1\n",
        "\n",
        "''' remove everything in a string starting from the first '[' then also remove traling whitespace '''\n",
        "def strip_date_correction(foo):\n",
        "  idx = foo.find(\"[\")\n",
        "  if idx != -1:\n",
        "    foo = foo[:idx]\n",
        "  return foo.strip()\n",
        "\n",
        "descs = vio['description'] # get descriptions column to work with\n",
        "\n",
        "#################### Is this necessary? ####################\n",
        "# vio = vio.assign(description=descs.apply(strip_date_correction)) # unify descriptions (remove text specificying date correction)\n",
        "############################################################"
      ],
      "metadata": {
        "id": "YXE_31_Obnha"
      },
      "execution_count": null,
      "outputs": []
    },
    {
      "cell_type": "code",
      "source": [
        "''' Focus on inspections that happened only in 2017. \n",
        "    Count the num. of violations in each category. \n",
        "    (Hint: use value_counts function in Pandas)\n",
        "    Display the top 20 violations '''\n",
        "\n",
        "''' make another col with just 1's '''\n",
        "vio_counts_2017 = vio.assign(count=descs.apply(one)) \n",
        "\n",
        "''' get only the violations which occured in 2017 '''\n",
        "vio_counts_2017 = vio_counts_2017.loc[vio_counts_2017['year'] == 2017] \n",
        "\n",
        "''' group by unified descriptions and sum the 1's for each group '''\n",
        "vio_counts_2017 = vio_counts_2017.groupby('description')['count'].sum().reset_index() \n",
        "\n",
        "''' sort the rows by their new count value and print 20 rows with only relevant col.'s '''\n",
        "print(vio_counts_2017.sort_values('count', ascending=False).reset_index().loc[:,['description', 'count']].head(20)) "
      ],
      "metadata": {
        "colab": {
          "base_uri": "https://localhost:8080/"
        },
        "id": "a62cN0-NPXAA",
        "outputId": "32036cab-c5d7-4efe-842d-b66cf823ce12"
      },
      "execution_count": null,
      "outputs": [
        {
          "output_type": "stream",
          "name": "stdout",
          "text": [
            "                                          description  count\n",
            "0        Unclean or degraded floors walls or ceilings    743\n",
            "1    Unapproved or unmaintained equipment or utensils    498\n",
            "2                               Improper food storage    350\n",
            "3   Inadequately cleaned or sanitized food contact...    341\n",
            "4   Inadequate and inaccessible handwashing facili...    331\n",
            "5   Wiping cloths not clean or properly stored or ...    306\n",
            "6             Moderate risk food holding temperature     304\n",
            "7                    Unclean nonfood contact surfaces    271\n",
            "8                    Moderate risk vermin infestation    265\n",
            "9              Foods not protected from contamination    255\n",
            "10  Food safety certificate or food handler card n...    254\n",
            "11                        Low risk vermin infestation    223\n",
            "12     Permit license or inspection report not posted    208\n",
            "13  Inadequate food safety knowledge or lack of ce...    192\n",
            "14   Improper storage of equipment utensils or linens    184\n",
            "15                     Improper or defective plumbing    144\n",
            "16                High risk food holding temperature     125\n",
            "17     Inadequate warewashing facilities or equipment    114\n",
            "18                 Inadequate ventilation or lighting    110\n",
            "19      No thermometers or uncalibrated thermometers      87\n"
          ]
        }
      ]
    },
    {
      "cell_type": "code",
      "source": [
        "''' Create a new feature num_vio to count the violations from every business '''\n",
        "\n",
        "''' give all businesses a new column with a 1 '''\n",
        "num_vio = vio['business_id']\n",
        "bus_vios = vio.assign(num_vio=num_vio.apply(one))\n",
        "\n",
        "''' turn dates into a more readable format and get the years so we can filter out inspections/violations from 2017 '''\n",
        "insp = insp.pipe(parse_dates_and_years)\n",
        "insp = insp.loc[insp['year'] == 2017]\n",
        "\n",
        "''' sum up all the ones from earlier when grouping by both business id and year '''\n",
        "bus_vios = bus_vios.groupby(['business_id', 'date'])['num_vio'].sum().reset_index()\n",
        "\n",
        "''' merge the tables to get the score attribute with each date's violation count '''\n",
        "bus_vios = bus_vios.merge(insp, on='business_id', how='right').rename(columns={'date_y': 'date'}).loc[:,['business_id','score','date','type','num_vio']].drop_duplicates('date')\n",
        "\n",
        "print(bus_vios)"
      ],
      "metadata": {
        "colab": {
          "base_uri": "https://localhost:8080/"
        },
        "id": "mFQyJzVkFKPv",
        "outputId": "e957c936-27c5-4ca2-e7b4-c8218610ddb5"
      },
      "execution_count": null,
      "outputs": [
        {
          "output_type": "stream",
          "name": "stdout",
          "text": [
            "       business_id  score       date     type  num_vio\n",
            "0               19     94 2017-12-11  routine      3.0\n",
            "2               24     98 2017-11-01  routine      2.0\n",
            "5               45     88 2017-03-07  routine      7.0\n",
            "9               45     85 2017-09-14  routine      7.0\n",
            "13              54     87 2017-02-15  routine      3.0\n",
            "...            ...    ...        ...      ...      ...\n",
            "12348        88840     96 2017-10-21  routine      3.0\n",
            "12392        89114     86 2017-04-04  routine      5.0\n",
            "12502        89678    100 2017-03-26  routine      NaN\n",
            "12595        90137     98 2017-01-21  routine      1.0\n",
            "12720        90792     96 2017-08-05  routine      1.0\n",
            "\n",
            "[274 rows x 5 columns]\n"
          ]
        }
      ]
    },
    {
      "cell_type": "code",
      "source": [
        "''' Determine how many NaN values exist and explain how you will address this missing data.\n",
        "    Deductive imputation? Mean imputation? Hot-deck imputation? Why?\n",
        "    Write the code for your choice and display the result. '''\n",
        "print(f\"The number of null values in num_vio : {bus_vios['num_vio'].isnull().sum()}\")"
      ],
      "metadata": {
        "id": "ZlBjgWA2OKt4",
        "colab": {
          "base_uri": "https://localhost:8080/"
        },
        "outputId": "d6dc0909-d3fa-420b-e1d5-731e540854a2"
      },
      "execution_count": null,
      "outputs": [
        {
          "output_type": "stream",
          "name": "stdout",
          "text": [
            "The number of null values in num_vio : 7\n"
          ]
        }
      ]
    },
    {
      "cell_type": "markdown",
      "source": [
        "###I will use deductive imputation and say each NaN value should be replaced with 0 because those businesses don't have any violations on record"
      ],
      "metadata": {
        "id": "5R8tz9zEbYO0"
      }
    },
    {
      "cell_type": "code",
      "source": [
        "''' Deductive imputation. Make all num_vio NaN values into 0 '''\n",
        "bus_vios['num_vio'] = bus_vios['num_vio'].fillna(0)\n",
        "print(bus_vios)"
      ],
      "metadata": {
        "colab": {
          "base_uri": "https://localhost:8080/"
        },
        "id": "9-Qtst4vds4e",
        "outputId": "1b6767d9-8f4e-4bdb-d939-5d460b4fc441"
      },
      "execution_count": null,
      "outputs": [
        {
          "output_type": "stream",
          "name": "stdout",
          "text": [
            "       business_id  score       date     type  num_vio\n",
            "0               19     94 2017-12-11  routine      3.0\n",
            "2               24     98 2017-11-01  routine      2.0\n",
            "5               45     88 2017-03-07  routine      7.0\n",
            "9               45     85 2017-09-14  routine      7.0\n",
            "13              54     87 2017-02-15  routine      3.0\n",
            "...            ...    ...        ...      ...      ...\n",
            "12348        88840     96 2017-10-21  routine      3.0\n",
            "12392        89114     86 2017-04-04  routine      5.0\n",
            "12502        89678    100 2017-03-26  routine      0.0\n",
            "12595        90137     98 2017-01-21  routine      1.0\n",
            "12720        90792     96 2017-08-05  routine      1.0\n",
            "\n",
            "[274 rows x 5 columns]\n"
          ]
        }
      ]
    }
  ]
}
