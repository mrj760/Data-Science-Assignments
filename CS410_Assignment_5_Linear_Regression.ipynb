{
  "nbformat": 4,
  "nbformat_minor": 0,
  "metadata": {
    "colab": {
      "provenance": [],
      "authorship_tag": "ABX9TyOOWqLwIpNlru5VIRBgN1Ok",
      "include_colab_link": true
    },
    "kernelspec": {
      "name": "python3",
      "display_name": "Python 3"
    },
    "language_info": {
      "name": "python"
    },
    "accelerator": "GPU",
    "gpuClass": "standard"
  },
  "cells": [
    {
      "cell_type": "markdown",
      "metadata": {
        "id": "view-in-github",
        "colab_type": "text"
      },
      "source": [
        "<a href=\"https://colab.research.google.com/github/mrj760/Data-Science-Assignments/blob/main/CS410_Assignment_5_Linear_Regression.ipynb\" target=\"_parent\"><img src=\"https://colab.research.google.com/assets/colab-badge.svg\" alt=\"Open In Colab\"/></a>"
      ]
    },
    {
      "cell_type": "code",
      "source": [
        "from google.colab import drive\n",
        "from pathlib import Path\n",
        "import pandas as pd\n",
        "import numpy as np\n",
        "from sklearn.compose import make_column_transformer as mkxform, make_column_selector as mksel\n",
        "from sklearn.preprocessing import OneHotEncoder, MinMaxScaler\n",
        "# from sklearn.pipeline import make_pipeline as mkpipe\n",
        "from sklearn.model_selection import train_test_split\n",
        "from sklearn.linear_model import LinearRegression\n",
        "# from sklearn.impute import SimpleImputer\n",
        "import matplotlib.pyplot as plt\n",
        "import seaborn as sb"
      ],
      "metadata": {
        "id": "M-f5pzR4B_a2"
      },
      "execution_count": null,
      "outputs": []
    },
    {
      "cell_type": "code",
      "execution_count": null,
      "metadata": {
        "id": "hSFuCzk2nyot",
        "colab": {
          "base_uri": "https://localhost:8080/"
        },
        "outputId": "9f3256cb-00e8-4847-b9b0-1c771b0d9a4d"
      },
      "outputs": [
        {
          "output_type": "stream",
          "name": "stdout",
          "text": [
            "Drive already mounted at /content/drive; to attempt to forcibly remount, call drive.mount(\"/content/drive\", force_remount=True).\n"
          ]
        }
      ],
      "source": [
        "drive.mount(\"/content/drive\")\n",
        "drivepath = Path() / '/content' / 'drive' / 'MyDrive'\n",
        "\n",
        "WALMART = pd.read_csv(drivepath / 'walmart.csv')\n",
        "WALMART\n",
        "\n",
        "pd.set_option('display.max_columns', None)  \n",
        "pd.set_option('display.max_colwidth', None)\n",
        "pd.set_option(\"expand_frame_repr\", False)"
      ]
    },
    {
      "cell_type": "markdown",
      "source": [
        ""
      ],
      "metadata": {
        "id": "K-d0od04AAxF"
      }
    },
    {
      "cell_type": "code",
      "source": [
        "''' Y (Weekly Sales) is numeric so this is a regression problem. '''\n",
        "walmart = WALMART.drop(columns='Date')\n",
        "X_cols = list(walmart.columns)\n",
        "X_cols.remove('Weekly_Sales')\n",
        "y_cols = ['Weekly_Sales']\n",
        "print(f\"X columns : {X_cols}\")\n",
        "print(f\"y columns : {y_cols}\")"
      ],
      "metadata": {
        "colab": {
          "base_uri": "https://localhost:8080/"
        },
        "id": "pM6kgMka-6UJ",
        "outputId": "069506e1-b7e7-4c78-d600-b85ecd9bc937"
      },
      "execution_count": null,
      "outputs": [
        {
          "output_type": "stream",
          "name": "stdout",
          "text": [
            "X columns : ['IsHoliday', 'Temperature', 'Fuel_Price', 'Unemployment', 'MarkDown']\n",
            "y columns : ['Weekly_Sales']\n"
          ]
        }
      ]
    },
    {
      "cell_type": "markdown",
      "source": [
        ""
      ],
      "metadata": {
        "id": "PfDHTvQ9OuSt"
      }
    },
    {
      "cell_type": "code",
      "source": [
        "categs = mksel(dtype_include=object)\n",
        "nums = mksel(dtype_include=np.number)\n",
        "print(f\"Ordinal Columns   : {categs(walmart)}\")\n",
        "print(f\"Numerical Columns : {nums(walmart)}\")\n",
        "\n",
        "categ_linear_proc = OneHotEncoder(handle_unknown=\"ignore\")\n",
        "num_linear_proc = MinMaxScaler()\n",
        "\n",
        "xform = mkxform((categ_linear_proc, categs),\n",
        "                (num_linear_proc, nums), \n",
        "                remainder=\"passthrough\")\n",
        "xwalmart = xform.fit_transform(walmart)\n",
        "xwalmart = pd.DataFrame(xwalmart, columns=xform.get_feature_names_out())\n",
        "xwalmart = xwalmart.rename(columns = (lambda x: x.replace(\"onehotencoder__\",'').replace(\"minmaxscaler__\",'')))\n",
        "xwalmart = xwalmart.dropna().assign(intr=1)[['intr', *xwalmart.columns]]\n",
        "xwalmart"
      ],
      "metadata": {
        "colab": {
          "base_uri": "https://localhost:8080/",
          "height": 542
        },
        "id": "kx7iFDHxO2UA",
        "outputId": "8aeece70-3942-480f-bfca-dc943e7f95fd"
      },
      "execution_count": null,
      "outputs": [
        {
          "output_type": "stream",
          "name": "stdout",
          "text": [
            "Ordinal Columns   : ['IsHoliday', 'MarkDown']\n",
            "Numerical Columns : ['Weekly_Sales', 'Temperature', 'Fuel_Price', 'Unemployment']\n"
          ]
        },
        {
          "output_type": "execute_result",
          "data": {
            "text/plain": [
              "     intr  IsHoliday_No  IsHoliday_Yes  MarkDown_MarkDown1  MarkDown_MarkDown2  MarkDown_MarkDown3  MarkDown_MarkDown4  MarkDown_MarkDown5  MarkDown_No Markdown  Weekly_Sales  Temperature  Fuel_Price  Unemployment\n",
              "0       1           1.0            0.0                 0.0                 0.0                 0.0                 0.0                 0.0                   1.0      0.241254     0.122844    0.041637      1.000000\n",
              "1       1           0.0            1.0                 0.0                 0.0                 0.0                 0.0                 0.0                   1.0      0.731676     0.055289    0.024408      1.000000\n",
              "2       1           1.0            0.0                 0.0                 0.0                 0.0                 0.0                 0.0                   1.0      0.628460     0.080533    0.000000      1.000000\n",
              "3       1           1.0            0.0                 0.0                 0.0                 0.0                 0.0                 0.0                   1.0      0.113023     0.199644    0.033740      1.000000\n",
              "4       1           1.0            0.0                 0.0                 0.0                 0.0                 0.0                 0.0                   1.0      0.169332     0.197333    0.079684      1.000000\n",
              "..    ...           ...            ...                 ...                 ...                 ...                 ...                 ...                   ...           ...          ...         ...           ...\n",
              "138     1           1.0            0.0                 0.0                 0.0                 0.0                 0.0                 1.0                   0.0      0.102438     0.723200    0.826992      0.218526\n",
              "139     1           1.0            0.0                 0.0                 1.0                 0.0                 0.0                 0.0                   0.0      0.171110     0.589333    0.791816      0.000000\n",
              "140     1           1.0            0.0                 0.0                 1.0                 0.0                 0.0                 0.0                   0.0      0.191074     0.490489    0.780330      0.000000\n",
              "141     1           1.0            0.0                 0.0                 1.0                 0.0                 0.0                 0.0                   0.0      0.224084     0.579022    0.775305      0.000000\n",
              "142     1           1.0            0.0                 1.0                 0.0                 0.0                 0.0                 0.0                   0.0      0.298537     0.600178    0.712132      0.000000\n",
              "\n",
              "[143 rows x 13 columns]"
            ],
            "text/html": [
              "\n",
              "  <div id=\"df-9cdc63b5-806c-480c-9ae8-34ccb6424687\">\n",
              "    <div class=\"colab-df-container\">\n",
              "      <div>\n",
              "<style scoped>\n",
              "    .dataframe tbody tr th:only-of-type {\n",
              "        vertical-align: middle;\n",
              "    }\n",
              "\n",
              "    .dataframe tbody tr th {\n",
              "        vertical-align: top;\n",
              "    }\n",
              "\n",
              "    .dataframe thead th {\n",
              "        text-align: right;\n",
              "    }\n",
              "</style>\n",
              "<table border=\"1\" class=\"dataframe\">\n",
              "  <thead>\n",
              "    <tr style=\"text-align: right;\">\n",
              "      <th></th>\n",
              "      <th>intr</th>\n",
              "      <th>IsHoliday_No</th>\n",
              "      <th>IsHoliday_Yes</th>\n",
              "      <th>MarkDown_MarkDown1</th>\n",
              "      <th>MarkDown_MarkDown2</th>\n",
              "      <th>MarkDown_MarkDown3</th>\n",
              "      <th>MarkDown_MarkDown4</th>\n",
              "      <th>MarkDown_MarkDown5</th>\n",
              "      <th>MarkDown_No Markdown</th>\n",
              "      <th>Weekly_Sales</th>\n",
              "      <th>Temperature</th>\n",
              "      <th>Fuel_Price</th>\n",
              "      <th>Unemployment</th>\n",
              "    </tr>\n",
              "  </thead>\n",
              "  <tbody>\n",
              "    <tr>\n",
              "      <th>0</th>\n",
              "      <td>1</td>\n",
              "      <td>1.0</td>\n",
              "      <td>0.0</td>\n",
              "      <td>0.0</td>\n",
              "      <td>0.0</td>\n",
              "      <td>0.0</td>\n",
              "      <td>0.0</td>\n",
              "      <td>0.0</td>\n",
              "      <td>1.0</td>\n",
              "      <td>0.241254</td>\n",
              "      <td>0.122844</td>\n",
              "      <td>0.041637</td>\n",
              "      <td>1.000000</td>\n",
              "    </tr>\n",
              "    <tr>\n",
              "      <th>1</th>\n",
              "      <td>1</td>\n",
              "      <td>0.0</td>\n",
              "      <td>1.0</td>\n",
              "      <td>0.0</td>\n",
              "      <td>0.0</td>\n",
              "      <td>0.0</td>\n",
              "      <td>0.0</td>\n",
              "      <td>0.0</td>\n",
              "      <td>1.0</td>\n",
              "      <td>0.731676</td>\n",
              "      <td>0.055289</td>\n",
              "      <td>0.024408</td>\n",
              "      <td>1.000000</td>\n",
              "    </tr>\n",
              "    <tr>\n",
              "      <th>2</th>\n",
              "      <td>1</td>\n",
              "      <td>1.0</td>\n",
              "      <td>0.0</td>\n",
              "      <td>0.0</td>\n",
              "      <td>0.0</td>\n",
              "      <td>0.0</td>\n",
              "      <td>0.0</td>\n",
              "      <td>0.0</td>\n",
              "      <td>1.0</td>\n",
              "      <td>0.628460</td>\n",
              "      <td>0.080533</td>\n",
              "      <td>0.000000</td>\n",
              "      <td>1.000000</td>\n",
              "    </tr>\n",
              "    <tr>\n",
              "      <th>3</th>\n",
              "      <td>1</td>\n",
              "      <td>1.0</td>\n",
              "      <td>0.0</td>\n",
              "      <td>0.0</td>\n",
              "      <td>0.0</td>\n",
              "      <td>0.0</td>\n",
              "      <td>0.0</td>\n",
              "      <td>0.0</td>\n",
              "      <td>1.0</td>\n",
              "      <td>0.113023</td>\n",
              "      <td>0.199644</td>\n",
              "      <td>0.033740</td>\n",
              "      <td>1.000000</td>\n",
              "    </tr>\n",
              "    <tr>\n",
              "      <th>4</th>\n",
              "      <td>1</td>\n",
              "      <td>1.0</td>\n",
              "      <td>0.0</td>\n",
              "      <td>0.0</td>\n",
              "      <td>0.0</td>\n",
              "      <td>0.0</td>\n",
              "      <td>0.0</td>\n",
              "      <td>0.0</td>\n",
              "      <td>1.0</td>\n",
              "      <td>0.169332</td>\n",
              "      <td>0.197333</td>\n",
              "      <td>0.079684</td>\n",
              "      <td>1.000000</td>\n",
              "    </tr>\n",
              "    <tr>\n",
              "      <th>...</th>\n",
              "      <td>...</td>\n",
              "      <td>...</td>\n",
              "      <td>...</td>\n",
              "      <td>...</td>\n",
              "      <td>...</td>\n",
              "      <td>...</td>\n",
              "      <td>...</td>\n",
              "      <td>...</td>\n",
              "      <td>...</td>\n",
              "      <td>...</td>\n",
              "      <td>...</td>\n",
              "      <td>...</td>\n",
              "      <td>...</td>\n",
              "    </tr>\n",
              "    <tr>\n",
              "      <th>138</th>\n",
              "      <td>1</td>\n",
              "      <td>1.0</td>\n",
              "      <td>0.0</td>\n",
              "      <td>0.0</td>\n",
              "      <td>0.0</td>\n",
              "      <td>0.0</td>\n",
              "      <td>0.0</td>\n",
              "      <td>1.0</td>\n",
              "      <td>0.0</td>\n",
              "      <td>0.102438</td>\n",
              "      <td>0.723200</td>\n",
              "      <td>0.826992</td>\n",
              "      <td>0.218526</td>\n",
              "    </tr>\n",
              "    <tr>\n",
              "      <th>139</th>\n",
              "      <td>1</td>\n",
              "      <td>1.0</td>\n",
              "      <td>0.0</td>\n",
              "      <td>0.0</td>\n",
              "      <td>1.0</td>\n",
              "      <td>0.0</td>\n",
              "      <td>0.0</td>\n",
              "      <td>0.0</td>\n",
              "      <td>0.0</td>\n",
              "      <td>0.171110</td>\n",
              "      <td>0.589333</td>\n",
              "      <td>0.791816</td>\n",
              "      <td>0.000000</td>\n",
              "    </tr>\n",
              "    <tr>\n",
              "      <th>140</th>\n",
              "      <td>1</td>\n",
              "      <td>1.0</td>\n",
              "      <td>0.0</td>\n",
              "      <td>0.0</td>\n",
              "      <td>1.0</td>\n",
              "      <td>0.0</td>\n",
              "      <td>0.0</td>\n",
              "      <td>0.0</td>\n",
              "      <td>0.0</td>\n",
              "      <td>0.191074</td>\n",
              "      <td>0.490489</td>\n",
              "      <td>0.780330</td>\n",
              "      <td>0.000000</td>\n",
              "    </tr>\n",
              "    <tr>\n",
              "      <th>141</th>\n",
              "      <td>1</td>\n",
              "      <td>1.0</td>\n",
              "      <td>0.0</td>\n",
              "      <td>0.0</td>\n",
              "      <td>1.0</td>\n",
              "      <td>0.0</td>\n",
              "      <td>0.0</td>\n",
              "      <td>0.0</td>\n",
              "      <td>0.0</td>\n",
              "      <td>0.224084</td>\n",
              "      <td>0.579022</td>\n",
              "      <td>0.775305</td>\n",
              "      <td>0.000000</td>\n",
              "    </tr>\n",
              "    <tr>\n",
              "      <th>142</th>\n",
              "      <td>1</td>\n",
              "      <td>1.0</td>\n",
              "      <td>0.0</td>\n",
              "      <td>1.0</td>\n",
              "      <td>0.0</td>\n",
              "      <td>0.0</td>\n",
              "      <td>0.0</td>\n",
              "      <td>0.0</td>\n",
              "      <td>0.0</td>\n",
              "      <td>0.298537</td>\n",
              "      <td>0.600178</td>\n",
              "      <td>0.712132</td>\n",
              "      <td>0.000000</td>\n",
              "    </tr>\n",
              "  </tbody>\n",
              "</table>\n",
              "<p>143 rows × 13 columns</p>\n",
              "</div>\n",
              "      <button class=\"colab-df-convert\" onclick=\"convertToInteractive('df-9cdc63b5-806c-480c-9ae8-34ccb6424687')\"\n",
              "              title=\"Convert this dataframe to an interactive table.\"\n",
              "              style=\"display:none;\">\n",
              "        \n",
              "  <svg xmlns=\"http://www.w3.org/2000/svg\" height=\"24px\"viewBox=\"0 0 24 24\"\n",
              "       width=\"24px\">\n",
              "    <path d=\"M0 0h24v24H0V0z\" fill=\"none\"/>\n",
              "    <path d=\"M18.56 5.44l.94 2.06.94-2.06 2.06-.94-2.06-.94-.94-2.06-.94 2.06-2.06.94zm-11 1L8.5 8.5l.94-2.06 2.06-.94-2.06-.94L8.5 2.5l-.94 2.06-2.06.94zm10 10l.94 2.06.94-2.06 2.06-.94-2.06-.94-.94-2.06-.94 2.06-2.06.94z\"/><path d=\"M17.41 7.96l-1.37-1.37c-.4-.4-.92-.59-1.43-.59-.52 0-1.04.2-1.43.59L10.3 9.45l-7.72 7.72c-.78.78-.78 2.05 0 2.83L4 21.41c.39.39.9.59 1.41.59.51 0 1.02-.2 1.41-.59l7.78-7.78 2.81-2.81c.8-.78.8-2.07 0-2.86zM5.41 20L4 18.59l7.72-7.72 1.47 1.35L5.41 20z\"/>\n",
              "  </svg>\n",
              "      </button>\n",
              "      \n",
              "  <style>\n",
              "    .colab-df-container {\n",
              "      display:flex;\n",
              "      flex-wrap:wrap;\n",
              "      gap: 12px;\n",
              "    }\n",
              "\n",
              "    .colab-df-convert {\n",
              "      background-color: #E8F0FE;\n",
              "      border: none;\n",
              "      border-radius: 50%;\n",
              "      cursor: pointer;\n",
              "      display: none;\n",
              "      fill: #1967D2;\n",
              "      height: 32px;\n",
              "      padding: 0 0 0 0;\n",
              "      width: 32px;\n",
              "    }\n",
              "\n",
              "    .colab-df-convert:hover {\n",
              "      background-color: #E2EBFA;\n",
              "      box-shadow: 0px 1px 2px rgba(60, 64, 67, 0.3), 0px 1px 3px 1px rgba(60, 64, 67, 0.15);\n",
              "      fill: #174EA6;\n",
              "    }\n",
              "\n",
              "    [theme=dark] .colab-df-convert {\n",
              "      background-color: #3B4455;\n",
              "      fill: #D2E3FC;\n",
              "    }\n",
              "\n",
              "    [theme=dark] .colab-df-convert:hover {\n",
              "      background-color: #434B5C;\n",
              "      box-shadow: 0px 1px 3px 1px rgba(0, 0, 0, 0.15);\n",
              "      filter: drop-shadow(0px 1px 2px rgba(0, 0, 0, 0.3));\n",
              "      fill: #FFFFFF;\n",
              "    }\n",
              "  </style>\n",
              "\n",
              "      <script>\n",
              "        const buttonEl =\n",
              "          document.querySelector('#df-9cdc63b5-806c-480c-9ae8-34ccb6424687 button.colab-df-convert');\n",
              "        buttonEl.style.display =\n",
              "          google.colab.kernel.accessAllowed ? 'block' : 'none';\n",
              "\n",
              "        async function convertToInteractive(key) {\n",
              "          const element = document.querySelector('#df-9cdc63b5-806c-480c-9ae8-34ccb6424687');\n",
              "          const dataTable =\n",
              "            await google.colab.kernel.invokeFunction('convertToInteractive',\n",
              "                                                     [key], {});\n",
              "          if (!dataTable) return;\n",
              "\n",
              "          const docLinkHtml = 'Like what you see? Visit the ' +\n",
              "            '<a target=\"_blank\" href=https://colab.research.google.com/notebooks/data_table.ipynb>data table notebook</a>'\n",
              "            + ' to learn more about interactive tables.';\n",
              "          element.innerHTML = '';\n",
              "          dataTable['output_type'] = 'display_data';\n",
              "          await google.colab.output.renderOutput(dataTable, element);\n",
              "          const docLink = document.createElement('div');\n",
              "          docLink.innerHTML = docLinkHtml;\n",
              "          element.appendChild(docLink);\n",
              "        }\n",
              "      </script>\n",
              "    </div>\n",
              "  </div>\n",
              "  "
            ]
          },
          "metadata": {},
          "execution_count": 239
        }
      ]
    },
    {
      "cell_type": "markdown",
      "source": [
        ""
      ],
      "metadata": {
        "id": "38_pVNvgTW6J"
      }
    },
    {
      "cell_type": "code",
      "source": [
        "X_cols = list(xwalmart.columns)\n",
        "X_cols.remove('Weekly_Sales')\n",
        "X = xwalmart[X_cols]\n",
        "y = xwalmart.loc[X.index, 'Weekly_Sales']\n",
        "\n",
        "X = X.reset_index(drop=True)\n",
        "y = y.reset_index(drop=True)\n",
        "\n",
        "print(f'X: {X}')\n",
        "print(f'y: {y}')\n",
        "\n",
        "print(f'X Shape: {X.shape} matrix')\n",
        "print(f'y Shape: {y.shape} vector\\n')"
      ],
      "metadata": {
        "colab": {
          "base_uri": "https://localhost:8080/"
        },
        "id": "GaNqmYQOksF7",
        "outputId": "bdc8f14c-b514-4080-ac9f-41ec47688825"
      },
      "execution_count": null,
      "outputs": [
        {
          "output_type": "stream",
          "name": "stdout",
          "text": [
            "X:      intr  IsHoliday_No  IsHoliday_Yes  MarkDown_MarkDown1  MarkDown_MarkDown2  MarkDown_MarkDown3  MarkDown_MarkDown4  MarkDown_MarkDown5  MarkDown_No Markdown  Temperature  Fuel_Price  Unemployment\n",
            "0       1           1.0            0.0                 0.0                 0.0                 0.0                 0.0                 0.0                   1.0     0.122844    0.041637      1.000000\n",
            "1       1           0.0            1.0                 0.0                 0.0                 0.0                 0.0                 0.0                   1.0     0.055289    0.024408      1.000000\n",
            "2       1           1.0            0.0                 0.0                 0.0                 0.0                 0.0                 0.0                   1.0     0.080533    0.000000      1.000000\n",
            "3       1           1.0            0.0                 0.0                 0.0                 0.0                 0.0                 0.0                   1.0     0.199644    0.033740      1.000000\n",
            "4       1           1.0            0.0                 0.0                 0.0                 0.0                 0.0                 0.0                   1.0     0.197333    0.079684      1.000000\n",
            "..    ...           ...            ...                 ...                 ...                 ...                 ...                 ...                   ...          ...         ...           ...\n",
            "138     1           1.0            0.0                 0.0                 0.0                 0.0                 0.0                 1.0                   0.0     0.723200    0.826992      0.218526\n",
            "139     1           1.0            0.0                 0.0                 1.0                 0.0                 0.0                 0.0                   0.0     0.589333    0.791816      0.000000\n",
            "140     1           1.0            0.0                 0.0                 1.0                 0.0                 0.0                 0.0                   0.0     0.490489    0.780330      0.000000\n",
            "141     1           1.0            0.0                 0.0                 1.0                 0.0                 0.0                 0.0                   0.0     0.579022    0.775305      0.000000\n",
            "142     1           1.0            0.0                 1.0                 0.0                 0.0                 0.0                 0.0                   0.0     0.600178    0.712132      0.000000\n",
            "\n",
            "[143 rows x 12 columns]\n",
            "y: 0      0.241254\n",
            "1      0.731676\n",
            "2      0.628460\n",
            "3      0.113023\n",
            "4      0.169332\n",
            "         ...   \n",
            "138    0.102438\n",
            "139    0.171110\n",
            "140    0.191074\n",
            "141    0.224084\n",
            "142    0.298537\n",
            "Name: Weekly_Sales, Length: 143, dtype: float64\n",
            "X Shape: (143, 12) matrix\n",
            "y Shape: (143,) vector\n",
            "\n"
          ]
        }
      ]
    },
    {
      "cell_type": "code",
      "source": [
        "''' Why does this not work when random_state=42 ? '''\n",
        "# xtr, xtest, ytr, ytest = train_test_split(X, y, test_size=.2, random_state=42) # x-training, x-test, y-training, y-test\n",
        "\n",
        "xtr, xtest, ytr, ytest = train_test_split(X, y, test_size=.2, random_state=6) # x-training, x-test, y-training, y-test\n",
        "\n",
        "print(f'Training set size: {len(xtr)} rows')\n",
        "print(f'Test set size: {len(xtest)} rows')"
      ],
      "metadata": {
        "colab": {
          "base_uri": "https://localhost:8080/"
        },
        "id": "O7G3YoyV-3jw",
        "outputId": "596d0afd-1e44-4e7b-fb47-b59056e742a9"
      },
      "execution_count": null,
      "outputs": [
        {
          "output_type": "stream",
          "name": "stdout",
          "text": [
            "Training set size: 114 rows\n",
            "Test set size: 29 rows\n"
          ]
        }
      ]
    },
    {
      "cell_type": "code",
      "source": [
        "xtr"
      ],
      "metadata": {
        "colab": {
          "base_uri": "https://localhost:8080/",
          "height": 505
        },
        "id": "WEYdpb8i--v1",
        "outputId": "09955358-304f-4e48-db89-cc78968c49d3"
      },
      "execution_count": null,
      "outputs": [
        {
          "output_type": "execute_result",
          "data": {
            "text/plain": [
              "     intr  IsHoliday_No  IsHoliday_Yes  MarkDown_MarkDown1  MarkDown_MarkDown2  MarkDown_MarkDown3  MarkDown_MarkDown4  MarkDown_MarkDown5  MarkDown_No Markdown  Temperature  Fuel_Price  Unemployment\n",
              "130     1           1.0            0.0                 1.0                 0.0                 0.0                 0.0                 0.0                   0.0     0.901511    0.648241      0.218526\n",
              "23      1           1.0            0.0                 0.0                 0.0                 0.0                 0.0                 0.0                   1.0     0.848889    0.078248      0.791911\n",
              "53      1           0.0            1.0                 0.0                 0.0                 0.0                 0.0                 0.0                   1.0     0.017600    0.364681      0.762557\n",
              "125     1           1.0            0.0                 0.0                 0.0                 1.0                 0.0                 0.0                   0.0     0.879644    0.554200      0.371820\n",
              "27      1           1.0            0.0                 0.0                 0.0                 0.0                 0.0                 0.0                   1.0     0.917333    0.127782      0.791911\n",
              "..    ...           ...            ...                 ...                 ...                 ...                 ...                 ...                   ...          ...         ...           ...\n",
              "141     1           1.0            0.0                 0.0                 1.0                 0.0                 0.0                 0.0                   0.0     0.579022    0.775305      0.000000\n",
              "79      1           1.0            0.0                 0.0                 0.0                 0.0                 0.0                 0.0                   1.0     0.984178    0.806892      0.906067\n",
              "109     1           1.0            0.0                 1.0                 0.0                 0.0                 0.0                 0.0                   0.0     0.415289    0.829146      0.505545\n",
              "106     1           1.0            0.0                 0.0                 1.0                 0.0                 0.0                 0.0                   0.0     0.176356    0.715004      0.505545\n",
              "138     1           1.0            0.0                 0.0                 0.0                 0.0                 0.0                 1.0                   0.0     0.723200    0.826992      0.218526\n",
              "\n",
              "[114 rows x 12 columns]"
            ],
            "text/html": [
              "\n",
              "  <div id=\"df-8151cabd-5de3-4032-9758-735dddad2870\">\n",
              "    <div class=\"colab-df-container\">\n",
              "      <div>\n",
              "<style scoped>\n",
              "    .dataframe tbody tr th:only-of-type {\n",
              "        vertical-align: middle;\n",
              "    }\n",
              "\n",
              "    .dataframe tbody tr th {\n",
              "        vertical-align: top;\n",
              "    }\n",
              "\n",
              "    .dataframe thead th {\n",
              "        text-align: right;\n",
              "    }\n",
              "</style>\n",
              "<table border=\"1\" class=\"dataframe\">\n",
              "  <thead>\n",
              "    <tr style=\"text-align: right;\">\n",
              "      <th></th>\n",
              "      <th>intr</th>\n",
              "      <th>IsHoliday_No</th>\n",
              "      <th>IsHoliday_Yes</th>\n",
              "      <th>MarkDown_MarkDown1</th>\n",
              "      <th>MarkDown_MarkDown2</th>\n",
              "      <th>MarkDown_MarkDown3</th>\n",
              "      <th>MarkDown_MarkDown4</th>\n",
              "      <th>MarkDown_MarkDown5</th>\n",
              "      <th>MarkDown_No Markdown</th>\n",
              "      <th>Temperature</th>\n",
              "      <th>Fuel_Price</th>\n",
              "      <th>Unemployment</th>\n",
              "    </tr>\n",
              "  </thead>\n",
              "  <tbody>\n",
              "    <tr>\n",
              "      <th>130</th>\n",
              "      <td>1</td>\n",
              "      <td>1.0</td>\n",
              "      <td>0.0</td>\n",
              "      <td>1.0</td>\n",
              "      <td>0.0</td>\n",
              "      <td>0.0</td>\n",
              "      <td>0.0</td>\n",
              "      <td>0.0</td>\n",
              "      <td>0.0</td>\n",
              "      <td>0.901511</td>\n",
              "      <td>0.648241</td>\n",
              "      <td>0.218526</td>\n",
              "    </tr>\n",
              "    <tr>\n",
              "      <th>23</th>\n",
              "      <td>1</td>\n",
              "      <td>1.0</td>\n",
              "      <td>0.0</td>\n",
              "      <td>0.0</td>\n",
              "      <td>0.0</td>\n",
              "      <td>0.0</td>\n",
              "      <td>0.0</td>\n",
              "      <td>0.0</td>\n",
              "      <td>1.0</td>\n",
              "      <td>0.848889</td>\n",
              "      <td>0.078248</td>\n",
              "      <td>0.791911</td>\n",
              "    </tr>\n",
              "    <tr>\n",
              "      <th>53</th>\n",
              "      <td>1</td>\n",
              "      <td>0.0</td>\n",
              "      <td>1.0</td>\n",
              "      <td>0.0</td>\n",
              "      <td>0.0</td>\n",
              "      <td>0.0</td>\n",
              "      <td>0.0</td>\n",
              "      <td>0.0</td>\n",
              "      <td>1.0</td>\n",
              "      <td>0.017600</td>\n",
              "      <td>0.364681</td>\n",
              "      <td>0.762557</td>\n",
              "    </tr>\n",
              "    <tr>\n",
              "      <th>125</th>\n",
              "      <td>1</td>\n",
              "      <td>1.0</td>\n",
              "      <td>0.0</td>\n",
              "      <td>0.0</td>\n",
              "      <td>0.0</td>\n",
              "      <td>1.0</td>\n",
              "      <td>0.0</td>\n",
              "      <td>0.0</td>\n",
              "      <td>0.0</td>\n",
              "      <td>0.879644</td>\n",
              "      <td>0.554200</td>\n",
              "      <td>0.371820</td>\n",
              "    </tr>\n",
              "    <tr>\n",
              "      <th>27</th>\n",
              "      <td>1</td>\n",
              "      <td>1.0</td>\n",
              "      <td>0.0</td>\n",
              "      <td>0.0</td>\n",
              "      <td>0.0</td>\n",
              "      <td>0.0</td>\n",
              "      <td>0.0</td>\n",
              "      <td>0.0</td>\n",
              "      <td>1.0</td>\n",
              "      <td>0.917333</td>\n",
              "      <td>0.127782</td>\n",
              "      <td>0.791911</td>\n",
              "    </tr>\n",
              "    <tr>\n",
              "      <th>...</th>\n",
              "      <td>...</td>\n",
              "      <td>...</td>\n",
              "      <td>...</td>\n",
              "      <td>...</td>\n",
              "      <td>...</td>\n",
              "      <td>...</td>\n",
              "      <td>...</td>\n",
              "      <td>...</td>\n",
              "      <td>...</td>\n",
              "      <td>...</td>\n",
              "      <td>...</td>\n",
              "      <td>...</td>\n",
              "    </tr>\n",
              "    <tr>\n",
              "      <th>141</th>\n",
              "      <td>1</td>\n",
              "      <td>1.0</td>\n",
              "      <td>0.0</td>\n",
              "      <td>0.0</td>\n",
              "      <td>1.0</td>\n",
              "      <td>0.0</td>\n",
              "      <td>0.0</td>\n",
              "      <td>0.0</td>\n",
              "      <td>0.0</td>\n",
              "      <td>0.579022</td>\n",
              "      <td>0.775305</td>\n",
              "      <td>0.000000</td>\n",
              "    </tr>\n",
              "    <tr>\n",
              "      <th>79</th>\n",
              "      <td>1</td>\n",
              "      <td>1.0</td>\n",
              "      <td>0.0</td>\n",
              "      <td>0.0</td>\n",
              "      <td>0.0</td>\n",
              "      <td>0.0</td>\n",
              "      <td>0.0</td>\n",
              "      <td>0.0</td>\n",
              "      <td>1.0</td>\n",
              "      <td>0.984178</td>\n",
              "      <td>0.806892</td>\n",
              "      <td>0.906067</td>\n",
              "    </tr>\n",
              "    <tr>\n",
              "      <th>109</th>\n",
              "      <td>1</td>\n",
              "      <td>1.0</td>\n",
              "      <td>0.0</td>\n",
              "      <td>1.0</td>\n",
              "      <td>0.0</td>\n",
              "      <td>0.0</td>\n",
              "      <td>0.0</td>\n",
              "      <td>0.0</td>\n",
              "      <td>0.0</td>\n",
              "      <td>0.415289</td>\n",
              "      <td>0.829146</td>\n",
              "      <td>0.505545</td>\n",
              "    </tr>\n",
              "    <tr>\n",
              "      <th>106</th>\n",
              "      <td>1</td>\n",
              "      <td>1.0</td>\n",
              "      <td>0.0</td>\n",
              "      <td>0.0</td>\n",
              "      <td>1.0</td>\n",
              "      <td>0.0</td>\n",
              "      <td>0.0</td>\n",
              "      <td>0.0</td>\n",
              "      <td>0.0</td>\n",
              "      <td>0.176356</td>\n",
              "      <td>0.715004</td>\n",
              "      <td>0.505545</td>\n",
              "    </tr>\n",
              "    <tr>\n",
              "      <th>138</th>\n",
              "      <td>1</td>\n",
              "      <td>1.0</td>\n",
              "      <td>0.0</td>\n",
              "      <td>0.0</td>\n",
              "      <td>0.0</td>\n",
              "      <td>0.0</td>\n",
              "      <td>0.0</td>\n",
              "      <td>1.0</td>\n",
              "      <td>0.0</td>\n",
              "      <td>0.723200</td>\n",
              "      <td>0.826992</td>\n",
              "      <td>0.218526</td>\n",
              "    </tr>\n",
              "  </tbody>\n",
              "</table>\n",
              "<p>114 rows × 12 columns</p>\n",
              "</div>\n",
              "      <button class=\"colab-df-convert\" onclick=\"convertToInteractive('df-8151cabd-5de3-4032-9758-735dddad2870')\"\n",
              "              title=\"Convert this dataframe to an interactive table.\"\n",
              "              style=\"display:none;\">\n",
              "        \n",
              "  <svg xmlns=\"http://www.w3.org/2000/svg\" height=\"24px\"viewBox=\"0 0 24 24\"\n",
              "       width=\"24px\">\n",
              "    <path d=\"M0 0h24v24H0V0z\" fill=\"none\"/>\n",
              "    <path d=\"M18.56 5.44l.94 2.06.94-2.06 2.06-.94-2.06-.94-.94-2.06-.94 2.06-2.06.94zm-11 1L8.5 8.5l.94-2.06 2.06-.94-2.06-.94L8.5 2.5l-.94 2.06-2.06.94zm10 10l.94 2.06.94-2.06 2.06-.94-2.06-.94-.94-2.06-.94 2.06-2.06.94z\"/><path d=\"M17.41 7.96l-1.37-1.37c-.4-.4-.92-.59-1.43-.59-.52 0-1.04.2-1.43.59L10.3 9.45l-7.72 7.72c-.78.78-.78 2.05 0 2.83L4 21.41c.39.39.9.59 1.41.59.51 0 1.02-.2 1.41-.59l7.78-7.78 2.81-2.81c.8-.78.8-2.07 0-2.86zM5.41 20L4 18.59l7.72-7.72 1.47 1.35L5.41 20z\"/>\n",
              "  </svg>\n",
              "      </button>\n",
              "      \n",
              "  <style>\n",
              "    .colab-df-container {\n",
              "      display:flex;\n",
              "      flex-wrap:wrap;\n",
              "      gap: 12px;\n",
              "    }\n",
              "\n",
              "    .colab-df-convert {\n",
              "      background-color: #E8F0FE;\n",
              "      border: none;\n",
              "      border-radius: 50%;\n",
              "      cursor: pointer;\n",
              "      display: none;\n",
              "      fill: #1967D2;\n",
              "      height: 32px;\n",
              "      padding: 0 0 0 0;\n",
              "      width: 32px;\n",
              "    }\n",
              "\n",
              "    .colab-df-convert:hover {\n",
              "      background-color: #E2EBFA;\n",
              "      box-shadow: 0px 1px 2px rgba(60, 64, 67, 0.3), 0px 1px 3px 1px rgba(60, 64, 67, 0.15);\n",
              "      fill: #174EA6;\n",
              "    }\n",
              "\n",
              "    [theme=dark] .colab-df-convert {\n",
              "      background-color: #3B4455;\n",
              "      fill: #D2E3FC;\n",
              "    }\n",
              "\n",
              "    [theme=dark] .colab-df-convert:hover {\n",
              "      background-color: #434B5C;\n",
              "      box-shadow: 0px 1px 3px 1px rgba(0, 0, 0, 0.15);\n",
              "      filter: drop-shadow(0px 1px 2px rgba(0, 0, 0, 0.3));\n",
              "      fill: #FFFFFF;\n",
              "    }\n",
              "  </style>\n",
              "\n",
              "      <script>\n",
              "        const buttonEl =\n",
              "          document.querySelector('#df-8151cabd-5de3-4032-9758-735dddad2870 button.colab-df-convert');\n",
              "        buttonEl.style.display =\n",
              "          google.colab.kernel.accessAllowed ? 'block' : 'none';\n",
              "\n",
              "        async function convertToInteractive(key) {\n",
              "          const element = document.querySelector('#df-8151cabd-5de3-4032-9758-735dddad2870');\n",
              "          const dataTable =\n",
              "            await google.colab.kernel.invokeFunction('convertToInteractive',\n",
              "                                                     [key], {});\n",
              "          if (!dataTable) return;\n",
              "\n",
              "          const docLinkHtml = 'Like what you see? Visit the ' +\n",
              "            '<a target=\"_blank\" href=https://colab.research.google.com/notebooks/data_table.ipynb>data table notebook</a>'\n",
              "            + ' to learn more about interactive tables.';\n",
              "          element.innerHTML = '';\n",
              "          dataTable['output_type'] = 'display_data';\n",
              "          await google.colab.output.renderOutput(dataTable, element);\n",
              "          const docLink = document.createElement('div');\n",
              "          docLink.innerHTML = docLinkHtml;\n",
              "          element.appendChild(docLink);\n",
              "        }\n",
              "      </script>\n",
              "    </div>\n",
              "  </div>\n",
              "  "
            ]
          },
          "metadata": {},
          "execution_count": 242
        }
      ]
    },
    {
      "cell_type": "code",
      "source": [
        "ytr"
      ],
      "metadata": {
        "colab": {
          "base_uri": "https://localhost:8080/"
        },
        "id": "5lM85tKUsv4n",
        "outputId": "68d8bbd7-9e3b-486d-aab4-134098785bbe"
      },
      "execution_count": null,
      "outputs": [
        {
          "output_type": "execute_result",
          "data": {
            "text/plain": [
              "130    0.048565\n",
              "23     0.060701\n",
              "53     0.542328\n",
              "125    0.027534\n",
              "27     0.023204\n",
              "         ...   \n",
              "141    0.224084\n",
              "79     0.000056\n",
              "109    0.153356\n",
              "106    0.917964\n",
              "138    0.102438\n",
              "Name: Weekly_Sales, Length: 114, dtype: float64"
            ]
          },
          "metadata": {},
          "execution_count": 243
        }
      ]
    },
    {
      "cell_type": "code",
      "source": [
        "def fit(X, y):\n",
        "    return np.linalg.inv(X.T @ X) @ X.T @ y\n",
        "\n",
        "# print(xtr.T @ xtr)\n",
        "theta = fit(xtr, ytr)\n",
        "theta"
      ],
      "metadata": {
        "colab": {
          "base_uri": "https://localhost:8080/"
        },
        "id": "IaQA98NUnMka",
        "outputId": "d6025d15-ada2-4ae7-b8b1-4d06eb3c7b41"
      },
      "execution_count": null,
      "outputs": [
        {
          "output_type": "execute_result",
          "data": {
            "text/plain": [
              "0    -1.554900e+15\n",
              "1     1.554900e+15\n",
              "2     1.554900e+15\n",
              "3    -1.031082e+00\n",
              "4    -7.186739e-01\n",
              "5    -1.289146e+00\n",
              "6    -4.396547e-01\n",
              "7    -7.868224e-01\n",
              "8    -9.804826e-01\n",
              "9    -3.983707e-01\n",
              "10    8.825442e-02\n",
              "11   -5.141603e-02\n",
              "dtype: float64"
            ]
          },
          "metadata": {},
          "execution_count": 244
        }
      ]
    },
    {
      "cell_type": "code",
      "source": [
        "def predict(theta, input):\n",
        "    return input.values @ theta\n",
        "\n",
        "def mae(output, pred): # Mean Absolute Error\n",
        "    return np.mean(abs(output-pred))\n",
        "\n",
        "def mse(output, pred): # Mean Squared Error\n",
        "    return np.mean((output-pred)**2)\n",
        "\n",
        "print(f'Absolute Error of theta in Test Set: {mae(ytest, predict(theta, xtest))}')\n",
        "print(f'Mean-Squared Error of theta in Test Set: {mse(ytest, predict(theta, xtest))}')"
      ],
      "metadata": {
        "colab": {
          "base_uri": "https://localhost:8080/"
        },
        "id": "EiZxh--HAcrx",
        "outputId": "49288c44-4094-47a3-e3b8-2eaeaa55ea67"
      },
      "execution_count": null,
      "outputs": [
        {
          "output_type": "stream",
          "name": "stdout",
          "text": [
            "Absolute Error of theta in Test Set: 0.20303096080831545\n",
            "Mean-Squared Error of theta in Test Set: 0.0553146326867392\n"
          ]
        }
      ]
    },
    {
      "cell_type": "code",
      "source": [
        "plt.figure(figsize=(5,4))\n",
        "sb.heatmap(xwalmart.corr().round(1), center=0, annot=True)"
      ],
      "metadata": {
        "colab": {
          "base_uri": "https://localhost:8080/",
          "height": 403
        },
        "id": "fnGh2lL6B4RK",
        "outputId": "09e2d737-2993-48c4-8754-9f72adee1788"
      },
      "execution_count": null,
      "outputs": [
        {
          "output_type": "execute_result",
          "data": {
            "text/plain": [
              "<matplotlib.axes._subplots.AxesSubplot at 0x7f1062072d10>"
            ]
          },
          "metadata": {},
          "execution_count": 246
        },
        {
          "output_type": "display_data",
          "data": {
            "text/plain": [
              "<Figure size 360x288 with 2 Axes>"
            ],
            "image/png": "[encoded data removed]"
          },
          "metadata": {
            "needs_background": "light"
          }
        }
      ]
    },
    {
      "cell_type": "code",
      "source": [
        "skmodel = LinearRegression().fit(xtr, ytr)\n",
        "skpred = skmodel.predict(xtest)\n",
        "# mse(ytest, skpred)\n",
        "print(f'Absolute Error of theta in Test Set: {mae(ytest, skpred)}')\n",
        "print(f'Mean-Squared Error of theta in Test Set: {mse(ytest, skpred)}')"
      ],
      "metadata": {
        "colab": {
          "base_uri": "https://localhost:8080/"
        },
        "id": "x3fwKV3KCYjf",
        "outputId": "6367b560-2420-46af-d064-5cafe7805969"
      },
      "execution_count": null,
      "outputs": [
        {
          "output_type": "stream",
          "name": "stdout",
          "text": [
            "Absolute Error of theta in Test Set: 0.14886927975842626\n",
            "Mean-Squared Error of theta in Test Set: 0.056616498682198486\n"
          ]
        }
      ]
    },
    {
      "cell_type": "markdown",
      "source": [
        "###.\n",
        "###.\n",
        "###.\n",
        "###.\n",
        "###Ignore below. I thought we were doing gradient descent..."
      ],
      "metadata": {
        "id": "b2ZEVUVUlNC-"
      }
    },
    {
      "cell_type": "code",
      "source": [
        "# def linear(thetas, X):\n",
        "#     return thetas[0] + thetas[1] * X\n",
        "\n",
        "# def mse_loss(thetas, X, y):\n",
        "#     linear_hyp = linear(thetas, X)\n",
        "#     linear_error = y - linear_hyp\n",
        "#     linear_error_sq = linear_error ** 2\n",
        "#     return np.mean(linear_error_sq)\n",
        "\n",
        "# def mse_loss_gradient(thetas, X, y):\n",
        "#     grad0 = y - linear(thetas, X)\n",
        "#     grad1 = grad0 * X\n",
        "#     return -2 / len(X) * np.array([np.sum(grad0), np.sum(grad1)])\n",
        "\n",
        "# def minimize(X, y, loss_func=mse_loss, loss_gradient_func=mse_loss_gradient, alpha=.0005, delta=.0001, display=-1):\n",
        "#     thetas = [1,1]\n",
        "#     loss = loss_func(thetas, X, y)\n",
        "\n",
        "#     whenprint = display\n",
        "#     while True:\n",
        "\n",
        "#         if display != -1:\n",
        "#             display += 1\n",
        "#             if (display % whenprint==0):\n",
        "#                 print(f\"thetas : {thetas} || loss : {loss}\")\n",
        "\n",
        "#         grad = loss_gradient_func(thetas, X, y)\n",
        "#         thetas -= (alpha * grad)\n",
        "#         old_loss = loss\n",
        "#         loss = loss_func(thetas, X, y)\n",
        "\n",
        "#         if (abs(loss-old_loss)) < delta:\n",
        "#             return thetas\n",
        "\n",
        "# X_cols = list(xwalmart.columns)\n",
        "# X_cols.remove('minmaxscaler__Weekly_Sales')\n",
        "# X = xwalmart[X_cols]\n",
        "# y = xwalmart['minmaxscaler__Weekly_Sales']\n",
        "\n",
        "# xtr, xtest, ytr, ytest = train_test_split(X, y, test_size=.2)\n",
        "\n",
        "# thetas = minimize(xtr,ytr,display=1)"
      ],
      "metadata": {
        "id": "cylUsCTRfkVq"
      },
      "execution_count": null,
      "outputs": []
    }
  ]
}
